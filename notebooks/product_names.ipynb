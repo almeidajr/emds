{
 "cells": [
  {
   "cell_type": "markdown",
   "source": [
    "# EasyMarket"
   ],
   "metadata": {
    "collapsed": false
   }
  },
  {
   "cell_type": "markdown",
   "source": [
    "Third party libraries"
   ],
   "metadata": {
    "collapsed": false
   }
  },
  {
   "cell_type": "code",
   "execution_count": 1,
   "metadata": {
    "collapsed": true
   },
   "outputs": [],
   "source": [
    "import matplotlib.pyplot as plt\n",
    "import pandas as pd\n",
    "from thefuzz import fuzz\n",
    "from unidecode import unidecode\n"
   ]
  },
  {
   "cell_type": "markdown",
   "source": [
    "Container to hold abstractions\n",
    "\n",
    "Ensure to create a config.ini file with the following contents:\n",
    "```ini\n",
    "[DEFAULT]\n",
    "cloud_database_url = postgresql+psycopg2://<username>:<password>@<host>:<port>/<database>\n",
    "local_database_url = sqlite+pysqlite:///<filepath>\n",
    "```"
   ],
   "metadata": {
    "collapsed": false
   }
  },
  {
   "cell_type": "code",
   "execution_count": 2,
   "outputs": [],
   "source": [
    "from container import Container\n",
    "\n",
    "container = Container()\n"
   ],
   "metadata": {
    "collapsed": false,
    "pycharm": {
     "name": "#%%\n"
    }
   }
  },
  {
   "cell_type": "code",
   "execution_count": 3,
   "outputs": [
    {
     "data": {
      "text/plain": "                               description unit\n0  AMENDOIM CROCANTE PIMENTA VERM 90G DORI  PCE\n1             SH+COND PANTENE HIDRO CAUTER  PCE\n2          SAB REXONA ANTIBAC FRESH 84G C3  PCE\n3  BISC NESFIT MIX DE GERGELIM 126G NESTLE  PCE\n4     BARRA RITTER ZERO BRIGADEIRO C/3 75G  PCE",
      "text/html": "<div>\n<style scoped>\n    .dataframe tbody tr th:only-of-type {\n        vertical-align: middle;\n    }\n\n    .dataframe tbody tr th {\n        vertical-align: top;\n    }\n\n    .dataframe thead th {\n        text-align: right;\n    }\n</style>\n<table border=\"1\" class=\"dataframe\">\n  <thead>\n    <tr style=\"text-align: right;\">\n      <th></th>\n      <th>description</th>\n      <th>unit</th>\n    </tr>\n  </thead>\n  <tbody>\n    <tr>\n      <th>0</th>\n      <td>AMENDOIM CROCANTE PIMENTA VERM 90G DORI</td>\n      <td>PCE</td>\n    </tr>\n    <tr>\n      <th>1</th>\n      <td>SH+COND PANTENE HIDRO CAUTER</td>\n      <td>PCE</td>\n    </tr>\n    <tr>\n      <th>2</th>\n      <td>SAB REXONA ANTIBAC FRESH 84G C3</td>\n      <td>PCE</td>\n    </tr>\n    <tr>\n      <th>3</th>\n      <td>BISC NESFIT MIX DE GERGELIM 126G NESTLE</td>\n      <td>PCE</td>\n    </tr>\n    <tr>\n      <th>4</th>\n      <td>BARRA RITTER ZERO BRIGADEIRO C/3 75G</td>\n      <td>PCE</td>\n    </tr>\n  </tbody>\n</table>\n</div>"
     },
     "execution_count": 3,
     "metadata": {},
     "output_type": "execute_result"
    }
   ],
   "source": [
    "purchases_repository = container.purchases_repository\n",
    "purchases_df = purchases_repository.get_all()\n",
    "purchases_df.head()\n"
   ],
   "metadata": {
    "collapsed": false,
    "pycharm": {
     "name": "#%%\n"
    }
   }
  },
  {
   "cell_type": "code",
   "execution_count": 4,
   "outputs": [],
   "source": [
    "target = 'feijão'\n",
    "target = unidecode(target.lower())\n",
    "ratio_key = 'ratio'\n",
    "personal_ratio_key = 'personal_ratio'\n",
    "\n",
    "\n",
    "def personal_ratio(s1: str, s2: str) -> int:\n",
    "    head = 0\n",
    "    comparable = ''\n",
    "    for c in s1:\n",
    "        comparable += c\n",
    "        ratio = fuzz.token_set_ratio(comparable, s2)\n",
    "        if ratio > head:\n",
    "            head = ratio\n",
    "    return head\n",
    "\n",
    "\n",
    "def apply_ratio(df: pd.DataFrame):\n",
    "    df[ratio_key] = df.apply(lambda row: fuzz.token_set_ratio(row.description, target), axis=1)\n",
    "    df.sort_values(by=ratio_key, ascending=False, inplace=True)\n",
    "    return df\n",
    "\n",
    "\n",
    "def apply_personal_ratio(df: pd.DataFrame):\n",
    "    df[personal_ratio_key] = df.apply(\n",
    "        lambda row: personal_ratio(row.description, target),\n",
    "        axis=1\n",
    "    )\n",
    "    df.sort_values(by=personal_ratio_key, ascending=False, inplace=True)\n",
    "    return df\n",
    "\n",
    "\n",
    "def display_results(df: pd.DataFrame, key=ratio_key):\n",
    "    plt.hist(df[ratio_key], bins=100)\n",
    "    plt.show()\n",
    "\n",
    "    return df.head()\n"
   ],
   "metadata": {
    "collapsed": false,
    "pycharm": {
     "name": "#%%\n"
    }
   }
  },
  {
   "cell_type": "markdown",
   "source": [
    "Working on default data"
   ],
   "metadata": {
    "collapsed": false
   }
  },
  {
   "cell_type": "code",
   "execution_count": 5,
   "outputs": [
    {
     "data": {
      "text/plain": "<Figure size 432x288 with 1 Axes>",
      "image/png": "[encoded data removed]"
     },
     "metadata": {
      "needs_background": "light"
     },
     "output_type": "display_data"
    },
    {
     "data": {
      "text/plain": "                        description unit  ratio\n608               FEIJAO SUPANG 1KG   UN    100\n353       FEIJAO VERMELHO PACHA 1kg   UN    100\n352    FEIJAO PRETO KALDINHO 1kg T1   UN    100\n165  FEIJAO VERMELHO PEREIRA 1kg T1   UN    100\n213   FEIJAO PRETO CAMPO BOM 1kg T1   UN    100",
      "text/html": "<div>\n<style scoped>\n    .dataframe tbody tr th:only-of-type {\n        vertical-align: middle;\n    }\n\n    .dataframe tbody tr th {\n        vertical-align: top;\n    }\n\n    .dataframe thead th {\n        text-align: right;\n    }\n</style>\n<table border=\"1\" class=\"dataframe\">\n  <thead>\n    <tr style=\"text-align: right;\">\n      <th></th>\n      <th>description</th>\n      <th>unit</th>\n      <th>ratio</th>\n    </tr>\n  </thead>\n  <tbody>\n    <tr>\n      <th>608</th>\n      <td>FEIJAO SUPANG 1KG</td>\n      <td>UN</td>\n      <td>100</td>\n    </tr>\n    <tr>\n      <th>353</th>\n      <td>FEIJAO VERMELHO PACHA 1kg</td>\n      <td>UN</td>\n      <td>100</td>\n    </tr>\n    <tr>\n      <th>352</th>\n      <td>FEIJAO PRETO KALDINHO 1kg T1</td>\n      <td>UN</td>\n      <td>100</td>\n    </tr>\n    <tr>\n      <th>165</th>\n      <td>FEIJAO VERMELHO PEREIRA 1kg T1</td>\n      <td>UN</td>\n      <td>100</td>\n    </tr>\n    <tr>\n      <th>213</th>\n      <td>FEIJAO PRETO CAMPO BOM 1kg T1</td>\n      <td>UN</td>\n      <td>100</td>\n    </tr>\n  </tbody>\n</table>\n</div>"
     },
     "execution_count": 5,
     "metadata": {},
     "output_type": "execute_result"
    }
   ],
   "source": [
    "purchases_df = purchases_repository.get_all()\n",
    "purchases_df = apply_ratio(purchases_df)\n",
    "\n",
    "display_results(purchases_df)\n"
   ],
   "metadata": {
    "collapsed": false,
    "pycharm": {
     "name": "#%%\n"
    }
   }
  },
  {
   "cell_type": "markdown",
   "source": [
    "Working on lowercase data"
   ],
   "metadata": {
    "collapsed": false
   }
  },
  {
   "cell_type": "code",
   "execution_count": 6,
   "outputs": [
    {
     "data": {
      "text/plain": "<Figure size 432x288 with 1 Axes>",
      "image/png": "[encoded data removed]"
     },
     "metadata": {
      "needs_background": "light"
     },
     "output_type": "display_data"
    },
    {
     "data": {
      "text/plain": "                        description unit  ratio\n608               feijao supang 1kg   UN    100\n353       feijao vermelho pacha 1kg   UN    100\n352    feijao preto kaldinho 1kg t1   UN    100\n165  feijao vermelho pereira 1kg t1   UN    100\n213   feijao preto campo bom 1kg t1   UN    100",
      "text/html": "<div>\n<style scoped>\n    .dataframe tbody tr th:only-of-type {\n        vertical-align: middle;\n    }\n\n    .dataframe tbody tr th {\n        vertical-align: top;\n    }\n\n    .dataframe thead th {\n        text-align: right;\n    }\n</style>\n<table border=\"1\" class=\"dataframe\">\n  <thead>\n    <tr style=\"text-align: right;\">\n      <th></th>\n      <th>description</th>\n      <th>unit</th>\n      <th>ratio</th>\n    </tr>\n  </thead>\n  <tbody>\n    <tr>\n      <th>608</th>\n      <td>feijao supang 1kg</td>\n      <td>UN</td>\n      <td>100</td>\n    </tr>\n    <tr>\n      <th>353</th>\n      <td>feijao vermelho pacha 1kg</td>\n      <td>UN</td>\n      <td>100</td>\n    </tr>\n    <tr>\n      <th>352</th>\n      <td>feijao preto kaldinho 1kg t1</td>\n      <td>UN</td>\n      <td>100</td>\n    </tr>\n    <tr>\n      <th>165</th>\n      <td>feijao vermelho pereira 1kg t1</td>\n      <td>UN</td>\n      <td>100</td>\n    </tr>\n    <tr>\n      <th>213</th>\n      <td>feijao preto campo bom 1kg t1</td>\n      <td>UN</td>\n      <td>100</td>\n    </tr>\n  </tbody>\n</table>\n</div>"
     },
     "execution_count": 6,
     "metadata": {},
     "output_type": "execute_result"
    }
   ],
   "source": [
    "purchases_df = purchases_repository.get_all()\n",
    "purchases_df.description = purchases_df.description.apply(\n",
    "    lambda x: x.lower()\n",
    ")\n",
    "purchases_df = apply_ratio(purchases_df)\n",
    "\n",
    "display_results(purchases_df)\n"
   ],
   "metadata": {
    "collapsed": false,
    "pycharm": {
     "name": "#%%\n"
    }
   }
  },
  {
   "cell_type": "markdown",
   "source": [
    "Working only on ASCII characters"
   ],
   "metadata": {
    "collapsed": false
   }
  },
  {
   "cell_type": "code",
   "execution_count": 7,
   "outputs": [
    {
     "data": {
      "text/plain": "<Figure size 432x288 with 1 Axes>",
      "image/png": "[encoded data removed]"
     },
     "metadata": {
      "needs_background": "light"
     },
     "output_type": "display_data"
    },
    {
     "data": {
      "text/plain": "                        description unit  ratio\n608               feijao supang 1kg   UN    100\n353       feijao vermelho pacha 1kg   UN    100\n352    feijao preto kaldinho 1kg t1   UN    100\n165  feijao vermelho pereira 1kg t1   UN    100\n213   feijao preto campo bom 1kg t1   UN    100",
      "text/html": "<div>\n<style scoped>\n    .dataframe tbody tr th:only-of-type {\n        vertical-align: middle;\n    }\n\n    .dataframe tbody tr th {\n        vertical-align: top;\n    }\n\n    .dataframe thead th {\n        text-align: right;\n    }\n</style>\n<table border=\"1\" class=\"dataframe\">\n  <thead>\n    <tr style=\"text-align: right;\">\n      <th></th>\n      <th>description</th>\n      <th>unit</th>\n      <th>ratio</th>\n    </tr>\n  </thead>\n  <tbody>\n    <tr>\n      <th>608</th>\n      <td>feijao supang 1kg</td>\n      <td>UN</td>\n      <td>100</td>\n    </tr>\n    <tr>\n      <th>353</th>\n      <td>feijao vermelho pacha 1kg</td>\n      <td>UN</td>\n      <td>100</td>\n    </tr>\n    <tr>\n      <th>352</th>\n      <td>feijao preto kaldinho 1kg t1</td>\n      <td>UN</td>\n      <td>100</td>\n    </tr>\n    <tr>\n      <th>165</th>\n      <td>feijao vermelho pereira 1kg t1</td>\n      <td>UN</td>\n      <td>100</td>\n    </tr>\n    <tr>\n      <th>213</th>\n      <td>feijao preto campo bom 1kg t1</td>\n      <td>UN</td>\n      <td>100</td>\n    </tr>\n  </tbody>\n</table>\n</div>"
     },
     "execution_count": 7,
     "metadata": {},
     "output_type": "execute_result"
    }
   ],
   "source": [
    "purchases_df = purchases_repository.get_all()\n",
    "purchases_df.description = purchases_df.description.apply(\n",
    "    lambda x: unidecode(x.lower())\n",
    ")\n",
    "purchases_df = apply_ratio(purchases_df)\n",
    "\n",
    "display_results(purchases_df)\n"
   ],
   "metadata": {
    "collapsed": false,
    "pycharm": {
     "name": "#%%\n"
    }
   }
  },
  {
   "cell_type": "code",
   "execution_count": 8,
   "outputs": [
    {
     "data": {
      "text/plain": "<Figure size 432x288 with 1 Axes>",
      "image/png": "[encoded data removed]"
     },
     "metadata": {
      "needs_background": "light"
     },
     "output_type": "display_data"
    },
    {
     "data": {
      "text/plain": "                   description unit  ratio\n213   feijao preto campo bom t   UN    100\n352    feijao preto kaldinho t   UN    100\n460       feijao preto pacha t   UN    100\n165  feijao vermelho pereira t   UN    100\n608              feijao supang   UN    100",
      "text/html": "<div>\n<style scoped>\n    .dataframe tbody tr th:only-of-type {\n        vertical-align: middle;\n    }\n\n    .dataframe tbody tr th {\n        vertical-align: top;\n    }\n\n    .dataframe thead th {\n        text-align: right;\n    }\n</style>\n<table border=\"1\" class=\"dataframe\">\n  <thead>\n    <tr style=\"text-align: right;\">\n      <th></th>\n      <th>description</th>\n      <th>unit</th>\n      <th>ratio</th>\n    </tr>\n  </thead>\n  <tbody>\n    <tr>\n      <th>213</th>\n      <td>feijao preto campo bom t</td>\n      <td>UN</td>\n      <td>100</td>\n    </tr>\n    <tr>\n      <th>352</th>\n      <td>feijao preto kaldinho t</td>\n      <td>UN</td>\n      <td>100</td>\n    </tr>\n    <tr>\n      <th>460</th>\n      <td>feijao preto pacha t</td>\n      <td>UN</td>\n      <td>100</td>\n    </tr>\n    <tr>\n      <th>165</th>\n      <td>feijao vermelho pereira t</td>\n      <td>UN</td>\n      <td>100</td>\n    </tr>\n    <tr>\n      <th>608</th>\n      <td>feijao supang</td>\n      <td>UN</td>\n      <td>100</td>\n    </tr>\n  </tbody>\n</table>\n</div>"
     },
     "execution_count": 8,
     "metadata": {},
     "output_type": "execute_result"
    }
   ],
   "source": [
    "def prepare_df(df):\n",
    "    # Remove non-ASCII characters\n",
    "    df.description = df.description.apply(\n",
    "        lambda x: unidecode(x.lower())\n",
    "    )\n",
    "    # Remove units (e.g. \"kg\")\n",
    "    units = ['kg']\n",
    "    for unit in units:\n",
    "        df.description = df.description.apply(\n",
    "            lambda x: x.replace(unit, '')\n",
    "        )\n",
    "    # Remove non-alphabetic characters (except for spaces)\n",
    "    df.description = df.description.apply(\n",
    "        lambda x: ''.join(c for c in x if c.isalpha() or c == ' ')\n",
    "    )\n",
    "    # Remove duplicate spaces\n",
    "    df.description = df.description.apply(\n",
    "        lambda x: ' '.join(x.split())\n",
    "    )\n",
    "    return df\n",
    "\n",
    "\n",
    "purchases_df = purchases_repository.get_all()\n",
    "purchases_df = prepare_df(purchases_df)\n",
    "purchases_df = apply_ratio(purchases_df)\n",
    "\n",
    "display_results(purchases_df)\n"
   ],
   "metadata": {
    "collapsed": false,
    "pycharm": {
     "name": "#%%\n"
    }
   }
  },
  {
   "cell_type": "code",
   "execution_count": 9,
   "outputs": [
    {
     "data": {
      "text/plain": "<Figure size 432x288 with 1 Axes>",
      "image/png": "[encoded data removed]"
     },
     "metadata": {
      "needs_background": "light"
     },
     "output_type": "display_data"
    },
    {
     "data": {
      "text/plain": "                   description unit  ratio  personal_ratio\n213   feijao preto campo bom t   UN    100             100\n460       feijao preto pacha t   UN    100             100\n165  feijao vermelho pereira t   UN    100             100\n608              feijao supang   UN    100             100\n353      feijao vermelho pacha   UN    100             100",
      "text/html": "<div>\n<style scoped>\n    .dataframe tbody tr th:only-of-type {\n        vertical-align: middle;\n    }\n\n    .dataframe tbody tr th {\n        vertical-align: top;\n    }\n\n    .dataframe thead th {\n        text-align: right;\n    }\n</style>\n<table border=\"1\" class=\"dataframe\">\n  <thead>\n    <tr style=\"text-align: right;\">\n      <th></th>\n      <th>description</th>\n      <th>unit</th>\n      <th>ratio</th>\n      <th>personal_ratio</th>\n    </tr>\n  </thead>\n  <tbody>\n    <tr>\n      <th>213</th>\n      <td>feijao preto campo bom t</td>\n      <td>UN</td>\n      <td>100</td>\n      <td>100</td>\n    </tr>\n    <tr>\n      <th>460</th>\n      <td>feijao preto pacha t</td>\n      <td>UN</td>\n      <td>100</td>\n      <td>100</td>\n    </tr>\n    <tr>\n      <th>165</th>\n      <td>feijao vermelho pereira t</td>\n      <td>UN</td>\n      <td>100</td>\n      <td>100</td>\n    </tr>\n    <tr>\n      <th>608</th>\n      <td>feijao supang</td>\n      <td>UN</td>\n      <td>100</td>\n      <td>100</td>\n    </tr>\n    <tr>\n      <th>353</th>\n      <td>feijao vermelho pacha</td>\n      <td>UN</td>\n      <td>100</td>\n      <td>100</td>\n    </tr>\n  </tbody>\n</table>\n</div>"
     },
     "execution_count": 9,
     "metadata": {},
     "output_type": "execute_result"
    }
   ],
   "source": [
    "purchases_df = apply_personal_ratio(purchases_df)\n",
    "\n",
    "display_results(purchases_df, personal_ratio_key)\n"
   ],
   "metadata": {
    "collapsed": false,
    "pycharm": {
     "name": "#%%\n"
    }
   }
  },
  {
   "cell_type": "code",
   "execution_count": 10,
   "outputs": [
    {
     "name": "stdout",
     "output_type": "stream",
     "text": [
      "Length: 10\n"
     ]
    },
    {
     "data": {
      "text/plain": "['Receita de feijão - TudoGostoso',\n 'Feijão tradicional - Panelinha',\n 'COMO FAZER FEIJÃO | Cozinha Básica - YouTube',\n 'Receita de Feijão | CyberCook',\n 'Como fazer feijão - Paladar - Estadão',\n 'Como fazer feijão! - A Solução prática para o seu dia-a-dia!',\n 'Como cozinhar feijão: o guia prático para iniciante | Consul',\n 'Como cozinhar o feijão perfeito: dicas para deixá-lo delicioso',\n 'Como Fazer Feijão | Receitas Nestlé',\n 'Feijão Completo MAGGI | Receitas Nestlé']"
     },
     "execution_count": 10,
     "metadata": {},
     "output_type": "execute_result"
    }
   ],
   "source": [
    "google = container.google_service\n",
    "q = target\n",
    "hold = google.search(q)\n",
    "\n",
    "print(f'Length: {len(hold)}')\n",
    "hold\n"
   ],
   "metadata": {
    "collapsed": false,
    "pycharm": {
     "name": "#%%\n"
    }
   }
  }
 ],
 "metadata": {
  "kernelspec": {
   "display_name": "Python 3",
   "language": "python",
   "name": "python3"
  },
  "language_info": {
   "codemirror_mode": {
    "name": "ipython",
    "version": 2
   },
   "file_extension": ".py",
   "mimetype": "text/x-python",
   "name": "python",
   "nbconvert_exporter": "python",
   "pygments_lexer": "ipython2",
   "version": "2.7.6"
  }
 },
 "nbformat": 4,
 "nbformat_minor": 0
}