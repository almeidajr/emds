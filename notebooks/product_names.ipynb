{
 "cells": [
  {
   "cell_type": "markdown",
   "source": [
    "# EasyMarket"
   ],
   "metadata": {
    "collapsed": false
   }
  },
  {
   "cell_type": "markdown",
   "source": [
    "Third party libraries"
   ],
   "metadata": {
    "collapsed": false
   }
  },
  {
   "cell_type": "code",
   "execution_count": 1,
   "metadata": {
    "collapsed": true
   },
   "outputs": [],
   "source": [
    "import pandas as pd\n",
    "import matplotlib.pyplot as plt\n",
    "import numpy as np"
   ]
  },
  {
   "cell_type": "markdown",
   "source": [
    "Container to hold abstractions\n",
    "\n",
    "Ensure to create a config.ini file with the following contents:\n",
    "```ini\n",
    "[DEFAULT]\n",
    "cloud_database_url = postgresql+psycopg2://<username>:<password>@<host>:<port>/<database>\n",
    "local_database_url = sqlite+pysqlite:///<filepath>\n",
    "```"
   ],
   "metadata": {
    "collapsed": false
   }
  },
  {
   "cell_type": "code",
   "execution_count": 2,
   "outputs": [],
   "source": [
    "from container import Container\n",
    "\n",
    "container = Container()"
   ],
   "metadata": {
    "collapsed": false,
    "pycharm": {
     "name": "#%%\n"
    }
   }
  },
  {
   "cell_type": "code",
   "execution_count": 3,
   "outputs": [
    {
     "data": {
      "text/plain": "                               description unit\n0  AMENDOIM CROCANTE PIMENTA VERM 90G DORI  PCE\n1             SH+COND PANTENE HIDRO CAUTER  PCE\n2          SAB REXONA ANTIBAC FRESH 84G C3  PCE\n3  BISC NESFIT MIX DE GERGELIM 126G NESTLE  PCE\n4     BARRA RITTER ZERO BRIGADEIRO C/3 75G  PCE",
      "text/html": "<div>\n<style scoped>\n    .dataframe tbody tr th:only-of-type {\n        vertical-align: middle;\n    }\n\n    .dataframe tbody tr th {\n        vertical-align: top;\n    }\n\n    .dataframe thead th {\n        text-align: right;\n    }\n</style>\n<table border=\"1\" class=\"dataframe\">\n  <thead>\n    <tr style=\"text-align: right;\">\n      <th></th>\n      <th>description</th>\n      <th>unit</th>\n    </tr>\n  </thead>\n  <tbody>\n    <tr>\n      <th>0</th>\n      <td>AMENDOIM CROCANTE PIMENTA VERM 90G DORI</td>\n      <td>PCE</td>\n    </tr>\n    <tr>\n      <th>1</th>\n      <td>SH+COND PANTENE HIDRO CAUTER</td>\n      <td>PCE</td>\n    </tr>\n    <tr>\n      <th>2</th>\n      <td>SAB REXONA ANTIBAC FRESH 84G C3</td>\n      <td>PCE</td>\n    </tr>\n    <tr>\n      <th>3</th>\n      <td>BISC NESFIT MIX DE GERGELIM 126G NESTLE</td>\n      <td>PCE</td>\n    </tr>\n    <tr>\n      <th>4</th>\n      <td>BARRA RITTER ZERO BRIGADEIRO C/3 75G</td>\n      <td>PCE</td>\n    </tr>\n  </tbody>\n</table>\n</div>"
     },
     "execution_count": 3,
     "metadata": {},
     "output_type": "execute_result"
    }
   ],
   "source": [
    "purchases_repository = container.purchases_repository\n",
    "purchases_df = purchases_repository.get_all()\n",
    "purchases_df.head()\n"
   ],
   "metadata": {
    "collapsed": false,
    "pycharm": {
     "name": "#%%\n"
    }
   }
  }
 ],
 "metadata": {
  "kernelspec": {
   "display_name": "Python 3",
   "language": "python",
   "name": "python3"
  },
  "language_info": {
   "codemirror_mode": {
    "name": "ipython",
    "version": 2
   },
   "file_extension": ".py",
   "mimetype": "text/x-python",
   "name": "python",
   "nbconvert_exporter": "python",
   "pygments_lexer": "ipython2",
   "version": "2.7.6"
  }
 },
 "nbformat": 4,
 "nbformat_minor": 0
}